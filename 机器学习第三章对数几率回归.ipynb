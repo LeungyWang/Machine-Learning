{
 "cells": [
  {
   "cell_type": "markdown",
   "metadata": {},
   "source": [
    "# 对数几率回归模型概念"
   ]
  },
  {
   "cell_type": "markdown",
   "metadata": {},
   "source": [
    "## 对数几率函数\n",
    "\n",
    "在线性回归模型中，预测值y往往是一个具体的实值，而在分类预测场景当中，一个具体的预测实值不足以形成最终的分类预测。因此我们可以考虑将线性回归模型产生的预测实值，转换为0/1等分类值。"
   ]
  },
  {
   "cell_type": "markdown",
   "metadata": {},
   "source": [
    "单位阶跃函数(unit-step function)就是一种比较理想的分类函数:\n",
    "$$\n",
    "y = \\left\\{\\begin{aligned}0,z<0 \\\\0.5,z=0\\\\1,z>0\\end{aligned}\\right.\n",
    "\\tag{1.1}\n",
    "$$\n",
    "\n",
    "单位阶跃函数即表示当预测值z大于零就判为正例，小于零则判为反例，预测值为临界值零则可任意判别。但是由于单位阶跃函数不连续，不能作为广义线性回归模型的联系函数\n",
    "\n",
    "$$\n",
    "y = g^{-1}(\\omega^{T}x+b)         \n",
    "\\tag{1.2}\n",
    "$$\n",
    "\n",
    "<font color=#999AAA >即$g(·)$函数的连续性需与$\\omega^{T}x+b$保持一致</font>"
   ]
  },
  {
   "cell_type": "markdown",
   "metadata": {},
   "source": [
    "在这里考虑用一个无限接近单位近阶跃函数的连续函数来代替单位阶跃函数，并希望它单调可微(与线性回归模型保持一致)。而对数几率函数(logistic function)正是这样一个常用的替代函数。\n",
    "$$\n",
    "y = \\frac{1}{1+e^{-z}} \n",
    "\\tag{1.3}\n",
    "$$"
   ]
  },
  {
   "cell_type": "markdown",
   "metadata": {},
   "source": [
    "对数几率函数是一种Sigmoid函数，它将z值转化为一个接近0或者1的y值。将对数几率函数代入广义线性模型得到\n",
    "$$\n",
    "y =  \\frac{1}{1+e^{-(\\omega^Tx+b)}} \n",
    "\\tag{1.4}\n",
    "$$\n",
    "\n",
    "该式可变化为\n",
    "$$\n",
    "ln\\frac{y}{1-y}= \\omega^Tx+b\n",
    "\\tag{1.5}\n",
    "$$"
   ]
  },
  {
   "cell_type": "markdown",
   "metadata": {},
   "source": [
    "若将y视为样本作为正例的可能性，则1-y是其反例的可能性，两者的比值称为“几率”，反映了样本作为正例的相对可能性.\n",
    "$$\n",
    "\\frac{y}{1-y} \n",
    "\\tag{1.6}\n",
    "$$\n",
    "\n",
    "对几率取对数则可得到“对数几率”\n",
    "$$\n",
    "ln\\frac{y}{1-y}\n",
    "\\tag{1.7}\n",
    "$$\n",
    "\n",
    "\n",
    "对数几率回归实际上是在用线性回归模型的预测结果去逼近真实标记的对数几率\n",
    "\n",
    "特别需要注意到，虽然它的名字是“回归”，但实际上是一种分类学习方法。对数回归求解的目标函数是任意阶可导的凸函数。"
   ]
  },
  {
   "cell_type": "markdown",
   "metadata": {},
   "source": [
    "## 参数求解"
   ]
  },
  {
   "cell_type": "markdown",
   "metadata": {},
   "source": [
    "要确定线性回归模型中的$\\omega$和$b$，将式(1.5)中的y视为后验概率估计$p(y=1 | x)$, 即式子可重写为\n",
    "\n",
    "$$\n",
    "ln\\frac{p(y=1|x)}{p(y=0|x)}=\\omega^{T}x + b\n",
    "\\tag{1.8}\n",
    "$$\n",
    "后验概率在这里可以理解为已知样本x，其为正例或者反例的概率"
   ]
  },
  {
   "cell_type": "markdown",
   "metadata": {},
   "source": [
    "对式子1.8进行变式\n",
    "$$\n",
    "\\begin{aligned}\n",
    "\\frac{p(y = 1| x)}{1-p(y=1|x)}&=e^{\\omega^Tx+b}\n",
    "\\end{aligned}\n",
    "$$"
   ]
  },
  {
   "cell_type": "markdown",
   "metadata": {},
   "source": [
    "最终得到\n",
    "$$\n",
    "\\begin{aligned}\n",
    "p(y=1|x)&=\\frac{e^{\\omega^{T}x+b}}{1+e^{\\omega^{T}x+b}}   (1.9)\n",
    "\\end{aligned}\n",
    "$$\n",
    "\n",
    "$$\\begin{aligned}\n",
    "p(y=0|x)&=\\frac{1}{1+e^{\\omega^{T}x+b}}(1.10)\n",
    "\\end{aligned}$$"
   ]
  },
  {
   "cell_type": "markdown",
   "metadata": {},
   "source": [
    "### 对率回归模型最大化对数似然"
   ]
  },
  {
   "cell_type": "markdown",
   "metadata": {},
   "source": [
    "最大似然估计的基本思想为：在已知实验结果以及模型分布的情况下，找出让该实验结果发生概率最大时的参数值。\n",
    "\n",
    "应用到对率回归模型中，给定的数据集即为已知的实验结果，而每一个样本发生的概率也由式1.9和式1.10给出，对该对率回归模型作最大化似然估计，其中m为数据集中样本的个数：\n",
    "$$\n",
    "l(\\omega,b)=\\sum_{i=1}^{m}p(y_i|x_i;\\omega,b)\\tag{2.1}\n",
    "$$\n",
    "式1.9和式1.10中涉及指数运算，为了让运算过程变得简单且不影响其单调性，对最大似然函数取对数,实现“对数似然”\n",
    "$$\n",
    "l(\\omega,b)=\\sum_{i=1}^{m}\\ln p(y_i|x_i;\\omega,b)\\tag{2.2}\n",
    "$$\n",
    "对率回归模型中的参数$\\omega$和$b$的取值要使式2.2中的值达到最大值，即令每个样本属于其真实标记的概率越大越好"
   ]
  },
  {
   "cell_type": "markdown",
   "metadata": {},
   "source": [
    "为了便于讨论，令$\\beta=(\\omega;b)$,$\\hat{x}=\\left(x;1\\right)$，则$\\omega x+b$可简写为$\\beta^{T}\\hat{x}$. 再令$p_{1}\\left(\\hat{x};\\beta\\right)=p(y=1|\\hat{x};\\beta)$，$p_{0}\\left(\\hat{x};\\beta\\right)=1 - p(y=1|\\hat{x};\\beta)$，则式2.2中的似然项可重写为\n",
    "$$\n",
    "p(y_i|x_i;\\omega,b)=y_{i}p_{1}(\\hat{x}_{i};\\beta) + (1-y_{i})p_{0}(\\hat{x}_{i};\\beta)\\tag{2.3}\n",
    "$$"
   ]
  },
  {
   "cell_type": "markdown",
   "metadata": {},
   "source": [
    "将式2.3代入式2.2，并根据式1.9和式1.10，推导出演算过程\n",
    "$$\\begin{aligned}\n",
    "\\ln p(y_i|x_i;\\omega,b)&=ln(\\frac{y_{i}\\cdot e^{\\beta^{T}x}}{1+e^{\\beta^{T}\\hat{x}}}+(1-y_{i})\\cdot\\frac{1}{1+e^{\\beta^{T}\\hat{x}}})\\\\\n",
    "&=ln(\\frac{y_{i}\\cdot e^{\\beta^{T}\\hat{x}}+(1-y_{i})}{1+e^{\\beta^{T}\\hat{x}}})\\\\\n",
    "&=y_{i}\\cdot ln(e^{\\beta^{T}\\hat{x}}) - ln(1+e^{\\beta^{T}\\hat{x}})\\\\\n",
    "&=y_{i}\\cdot\\beta^{T}\\hat{x} - ln(1+e^{\\beta^{T}\\hat{x}})\n",
    "\\end{aligned}$$\n",
    "\n",
    "需要对演算过程中注意的是对$1-y_{i}$的化简，对$y_{i}$考虑两种情况分别为0和1\n",
    "当$y_{i}=1$时, $1-y_{i}=0$\n",
    "$$\n",
    "y_{i}\\cdot e^{\\beta^{T}\\hat{x}}+(1-y_{i})=y_{i}\\cdot e^{\\beta^{T}\\hat{x}}\\tag{2.5}\n",
    "$$\n",
    " 当$y_{i}=0$时，$y_{i}\\cdot e^{\\beta^{T}\\hat{x}}+(1-y_{i})$项整体为0， 即式2.5成立\n",
    " \n",
    " 已知求最大值即求其相反数的最小值，对算式2.4取相反数并代入式2.2可得：\n",
    "$$\n",
    "l(\\beta)=\\sum_{1}^{m}-y_{i}\\cdot\\beta^{T}\\hat{x} + ln(1+e^{\\beta^{T}\\hat{x}})\\tag{2.6}\n",
    "$$"
   ]
  },
  {
   "cell_type": "markdown",
   "metadata": {},
   "source": [
    "# 对数几率回归模型实现"
   ]
  },
  {
   "cell_type": "code",
   "execution_count": 1,
   "metadata": {},
   "outputs": [],
   "source": [
    "import matplotlib.pyplot as plt\n",
    "import numpy as np"
   ]
  },
  {
   "cell_type": "code",
   "execution_count": 7,
   "metadata": {},
   "outputs": [
    {
     "name": "stdout",
     "output_type": "stream",
     "text": [
      "[[ 1.     0.697  0.46   1.   ]\n",
      " [ 2.     0.774  0.376  1.   ]\n",
      " [ 3.     0.634  0.264  1.   ]\n",
      " [ 4.     0.608  0.318  1.   ]\n",
      " [ 5.     0.556  0.215  1.   ]\n",
      " [ 6.     0.403  0.237  1.   ]\n",
      " [ 7.     0.481  0.149  1.   ]\n",
      " [ 8.     0.437  0.211  1.   ]\n",
      " [ 9.     0.666  0.091  0.   ]\n",
      " [10.     0.243  0.267  0.   ]\n",
      " [11.     0.245  0.057  0.   ]\n",
      " [12.     0.343  0.099  0.   ]\n",
      " [13.     0.639  0.161  0.   ]\n",
      " [14.     0.657  0.198  0.   ]\n",
      " [15.     0.36   0.37   0.   ]\n",
      " [16.     0.593  0.042  0.   ]\n",
      " [17.     0.719  0.103  0.   ]]\n"
     ]
    }
   ],
   "source": [
    "# load dataset\n",
    "data_file = './data/watermelon_data.csv'\n",
    "data = np.loadtxt(data_file, skiprows=1, delimiter=\",\")\n",
    "print(data)"
   ]
  },
  {
   "cell_type": "code",
   "execution_count": 3,
   "metadata": {},
   "outputs": [],
   "source": [
    "# get data\n",
    "X = data[:,1:3] # 取数据集中的密度和含糖率两列\n",
    "y = data[:,3:] # 取数据集中的好瓜判断一列\n",
    "X0 = np.ones(np.shape(X)[0]) # 生成相同行数的数据1\n",
    "X = np.c_[X, X0.T] # 生成矩阵(xi, 1)"
   ]
  },
  {
   "cell_type": "markdown",
   "metadata": {},
   "source": [
    "## 梯度下降实现对率回归"
   ]
  },
  {
   "cell_type": "code",
   "execution_count": 4,
   "metadata": {},
   "outputs": [],
   "source": [
    "def sigmoid(z):\n",
    "    return 1/(1 + np.exp(-z)) \n",
    "\n",
    "def function_l(dataset_n, beta_T_X, y):\n",
    "    l_value = 0\n",
    "    for i in range(dataset_n):\n",
    "        p = -y[i]*beta_T_X[i] + np.log(1+np.exp(beta_T_X[i]))\n",
    "        l_value += p\n",
    "    return l_value\n",
    "\n",
    "def gradient_function_l(beta_T_X, X, y):\n",
    "    \"\"\"The gradient of function l\"\"\"\n",
    "    p1 = np.exp(beta_T_X) /  (1 + np.exp(beta_T_X))\n",
    "    return -np.sum(X * (y-p1), axis=0, keepdims=True)\n",
    "\n",
    "def gradient_descent(tranning_times=500):\n",
    "    \"\"\"Perform gradient descent\"\"\"\n",
    "    dataset_n = np.shape(X)[0]\n",
    "    # init alpha\n",
    "    alpha = 0.01\n",
    "    # init beta\n",
    "    beta = np.zeros((1,3))\n",
    "    for i in range(tranning_times):\n",
    "        # (x, beta)\n",
    "        beta_T_X = np.dot(X, beta.T)\n",
    "        # cal gradient value\n",
    "        gradient = gradient_function_l(beta_T_X, X ,y)\n",
    "        # update beta value\n",
    "        beta = beta - alpha * gradient\n",
    "    return beta"
   ]
  },
  {
   "cell_type": "markdown",
   "metadata": {},
   "source": [
    "### 分类结果"
   ]
  },
  {
   "cell_type": "code",
   "execution_count": 10,
   "metadata": {},
   "outputs": [
    {
     "data": {
      "image/png": "[encoded data removed]",
      "text/plain": [
       "<Figure size 432x288 with 1 Axes>"
      ]
     },
     "metadata": {
      "needs_background": "light"
     },
     "output_type": "display_data"
    }
   ],
   "source": [
    "w1, w2,b = gradient_descent().tolist()[0]\n",
    "\n",
    "def function_y(x):\n",
    "    return (-b-w1*x)/w2\n",
    "\n",
    "y_0 = y==0\n",
    "y_1 = y==1\n",
    "\n",
    "plt.title('watermelon_dataset')\n",
    "plt.xlabel('density')\n",
    "plt.ylabel('sugar content')\n",
    "plt.scatter(X[y_0[:,0],0], X[y_0[:,0], 1], label = 'low quality')\n",
    "plt.scatter(X[y_1[:,0],0], X[y_1[:,0], 1], label = 'high quality')\n",
    "left_point = function_y(0.1)\n",
    "right_point = function_y(0.9)\n",
    "plt.plot([0.1, 0.9], [left_point, right_point], label='y', color='green')\n",
    "plt.legend(loc=\"upper left\")\n",
    "plt.show()"
   ]
  },
  {
   "cell_type": "markdown",
   "metadata": {},
   "source": [
    "## 牛顿法实现对率回归"
   ]
  },
  {
   "cell_type": "code",
   "execution_count": 8,
   "metadata": {},
   "outputs": [
    {
     "name": "stdout",
     "output_type": "stream",
     "text": [
      "first_d : [[3.16583886 0.8786374  6.43813213]]\n",
      "second_d : [[0.62521997 0.22944908 1.10706565]\n",
      " [0.22944908 0.1148862  0.43509314]\n",
      " [1.10706565 0.43509314 2.16285971]]\n",
      "first_d : [[-1.3525372  -0.4483349  -2.35290185]]\n",
      "second_d : [[0.65823726 0.28104022 1.15924831]\n",
      " [0.28104022 0.14652463 0.53896755]\n",
      " [1.15924831 0.53896755 2.21526198]]\n",
      "first_d : [[0.75759242 0.13963715 1.29852247]]\n",
      "second_d : [[0.99415716 0.33448266 1.74908216]\n",
      " [0.33448266 0.15843369 0.65185614]\n",
      " [1.74908216 0.65185614 3.33228591]]\n",
      "first_d : [[0.05006579 0.00297553 0.09870581]]\n",
      "second_d : [[0.90292573 0.31620223 1.58329426]\n",
      " [0.31620223 0.14975183 0.61396799]\n",
      " [1.58329426 0.61396799 2.99801561]]\n",
      "first_d : [[ 0.00083302 -0.00024955  0.00223159]]\n",
      "second_d : [[0.87543256 0.30726735 1.53655584]\n",
      " [0.30726735 0.14532179 0.59827331]\n",
      " [1.53655584 0.59827331 2.91074012]]\n",
      "first_d : [[-2.91384685e-07 -1.20293246e-06  1.69379645e-06]]\n",
      "second_d : [[0.8741882  0.30680752 1.53444214]\n",
      " [0.30680752 0.14508452 0.59747692]\n",
      " [1.53444214 0.59747692 2.90678291]]\n"
     ]
    },
    {
     "data": {
      "text/plain": [
       "array([[ 3.15832966, 12.52119579, -4.42886451]])"
      ]
     },
     "execution_count": 8,
     "metadata": {},
     "output_type": "execute_result"
    }
   ],
   "source": [
    "def sigmoid(z):\n",
    "    return 1/(1 + np.exp(-z))\n",
    "\n",
    "def func_l(beta_T_X, y):\n",
    "    return -np.sum(-y*beta_T_X + np.log(1+np.exp(beta_T_X)))\n",
    "\n",
    "def fun_first_derivative(beta_T_X, X, y):\n",
    "    \"\"\"First derivative of function l\"\"\"\n",
    "    p1 = np.exp(beta_T_X)/(1 + np.exp(beta_T_X))\n",
    "    return -np.sum(X * (y-p1), 0, keepdims=True)\n",
    "\n",
    "def fun_second_derivative(beta_T_X, X):\n",
    "    \"\"\"Second derivative of function l\"\"\"\n",
    "    p1 = np.exp(beta_T_X)/(1 + np.exp(beta_T_X))\n",
    "    N = len(X)\n",
    "    p = np.diag((p1*(1-p1)).reshape(N))\n",
    "    return X.T.dot(p).dot(X)\n",
    "\n",
    "def newton_method():\n",
    "    \"\"\"Perform newton method\"\"\"\n",
    "    # init beta\n",
    "    beta = np.ones((1,3))\n",
    "    beta_T_X = np.dot(X, beta.T)\n",
    "    # cal gk\n",
    "    old_l = 0\n",
    "    new_l = func_l(beta_T_X, y)\n",
    "    while np.abs(new_l - old_l) > 1e-5:\n",
    "        first_d = fun_first_derivative(beta_T_X, X, y)\n",
    "        print(f'first_d : {first_d}')\n",
    "        second_d = fun_second_derivative(beta_T_X, X)\n",
    "        print(f'second_d : {second_d}')\n",
    "        beta = beta - first_d.dot(np.linalg.inv(second_d))\n",
    "        beta_T_X = np.dot(X, beta.T)\n",
    "        old_l = new_l\n",
    "        new_l = func_l(beta_T_X, y)\n",
    "    return beta\n",
    "\n",
    "newton_method()"
   ]
  },
  {
   "cell_type": "markdown",
   "metadata": {},
   "source": [
    "### 分类结果"
   ]
  },
  {
   "cell_type": "code",
   "execution_count": 11,
   "metadata": {},
   "outputs": [
    {
     "name": "stdout",
     "output_type": "stream",
     "text": [
      "first_d : [[3.16583886 0.8786374  6.43813213]]\n",
      "second_d : [[0.62521997 0.22944908 1.10706565]\n",
      " [0.22944908 0.1148862  0.43509314]\n",
      " [1.10706565 0.43509314 2.16285971]]\n",
      "first_d : [[-1.3525372  -0.4483349  -2.35290185]]\n",
      "second_d : [[0.65823726 0.28104022 1.15924831]\n",
      " [0.28104022 0.14652463 0.53896755]\n",
      " [1.15924831 0.53896755 2.21526198]]\n",
      "first_d : [[0.75759242 0.13963715 1.29852247]]\n",
      "second_d : [[0.99415716 0.33448266 1.74908216]\n",
      " [0.33448266 0.15843369 0.65185614]\n",
      " [1.74908216 0.65185614 3.33228591]]\n",
      "first_d : [[0.05006579 0.00297553 0.09870581]]\n",
      "second_d : [[0.90292573 0.31620223 1.58329426]\n",
      " [0.31620223 0.14975183 0.61396799]\n",
      " [1.58329426 0.61396799 2.99801561]]\n",
      "first_d : [[ 0.00083302 -0.00024955  0.00223159]]\n",
      "second_d : [[0.87543256 0.30726735 1.53655584]\n",
      " [0.30726735 0.14532179 0.59827331]\n",
      " [1.53655584 0.59827331 2.91074012]]\n",
      "first_d : [[-2.91384685e-07 -1.20293246e-06  1.69379645e-06]]\n",
      "second_d : [[0.8741882  0.30680752 1.53444214]\n",
      " [0.30680752 0.14508452 0.59747692]\n",
      " [1.53444214 0.59747692 2.90678291]]\n"
     ]
    },
    {
     "data": {
      "image/png": "[encoded data removed]",
      "text/plain": [
       "<Figure size 432x288 with 1 Axes>"
      ]
     },
     "metadata": {
      "needs_background": "light"
     },
     "output_type": "display_data"
    }
   ],
   "source": [
    "w1, w2,b = newton_method().tolist()[0]\n",
    "\n",
    "def function_y(x):\n",
    "    return (-b-w1*x)/w2\n",
    "\n",
    "y_0 = y==0\n",
    "y_1 = y==1\n",
    "\n",
    "plt.title('watermelon_dataset')\n",
    "plt.xlabel('density')\n",
    "plt.ylabel('sugar content')\n",
    "plt.scatter(X[y_0[:,0],0], X[y_0[:,0], 1], label = 'low quality')\n",
    "plt.scatter(X[y_1[:,0],0], X[y_1[:,0], 1], label = 'high quality')\n",
    "left_point = function_y(0.1)\n",
    "right_point = function_y(0.9)\n",
    "plt.plot([0.1, 0.9], [left_point, right_point], label='y', color='green')\n",
    "plt.legend(loc=\"upper left\")\n",
    "plt.show()"
   ]
  }
 ],
 "metadata": {
  "kernelspec": {
   "display_name": "Python 3",
   "language": "python",
   "name": "python3"
  },
  "language_info": {
   "codemirror_mode": {
    "name": "ipython",
    "version": 3
   },
   "file_extension": ".py",
   "mimetype": "text/x-python",
   "name": "python",
   "nbconvert_exporter": "python",
   "pygments_lexer": "ipython3",
   "version": "3.8.3"
  }
 },
 "nbformat": 4,
 "nbformat_minor": 4
}
